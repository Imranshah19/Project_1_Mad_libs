{
  "nbformat": 4,
  "nbformat_minor": 0,
  "metadata": {
    "colab": {
      "provenance": [],
      "authorship_tag": "ABX9TyOPHtP1C8ySe0D3eiC4ev7I",
      "include_colab_link": true
    },
    "kernelspec": {
      "name": "python3",
      "display_name": "Python 3"
    },
    "language_info": {
      "name": "python"
    }
  },
  "cells": [
    {
      "cell_type": "markdown",
      "metadata": {
        "id": "view-in-github",
        "colab_type": "text"
      },
      "source": [
        "<a href=\"https://colab.research.google.com/github/Imranshah19/Project_1_Mad_libs/blob/main/Project_1_Mad_libs.ipynb\" target=\"_parent\"><img src=\"https://colab.research.google.com/assets/colab-badge.svg\" alt=\"Open In Colab\"/></a>"
      ]
    },
    {
      "source": [
        "import random\n",
        "\n",
        "# List of words to randomly choose from\n",
        "nouns = [\"cat\", \"dog\", \"alien\", \"pirate\", \"robot\"]\n",
        "verbs = [\"jump\", \"run\", \"fly\", \"dance\", \"sing\"]\n",
        "adjectives = [\"happy\", \"sad\", \"brave\", \"lazy\", \"energetic\"]\n",
        "places = [\"park\", \"beach\", \"space\", \"jungle\", \"castle\"]\n",
        "\n",
        "# Taking user inputs\n",
        "noun = input(\"Enter a noun (or press Enter to choose randomly): \") or random.choice(nouns)\n",
        "verb = input(\"Enter a verb (or press Enter to choose randomly): \") or random.choice(verbs)\n",
        "adjective = input(\"Enter an adjective (or press Enter to choose randomly): \") or random.choice(adjectives)\n",
        "place = input(\"Enter a place (or press Enter to choose randomly): \") or random.choice(places)\n",
        "\n",
        "# Generating story\n",
        "story = f\"One day, a {adjective} {noun} decided to {verb} at the {place}. It was an amazing adventure!\"\n",
        "\n",
        "# Displaying the final story\n",
        "print(\"\\nHere is your Mad Libs story:\\n\")\n",
        "print(story)\n"
      ],
      "cell_type": "code",
      "metadata": {
        "id": "En8bgjz1NgcO"
      },
      "execution_count": null,
      "outputs": []
    },
    {
      "cell_type": "code",
      "source": [],
      "metadata": {
        "id": "spAZQj1JPwwi"
      },
      "execution_count": null,
      "outputs": []
    }
  ]
}